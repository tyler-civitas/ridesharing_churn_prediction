{
 "cells": [
  {
   "cell_type": "markdown",
   "metadata": {},
   "source": [
    "# IMPORTS"
   ]
  },
  {
   "cell_type": "code",
   "execution_count": 148,
   "metadata": {},
   "outputs": [],
   "source": [
    "import pandas as pd\n",
    "import numpy as np\n",
    "\n",
    "from sklearn.model_selection import cross_val_score\n",
    "from sklearn.ensemble import RandomForestClassifier, AdaBoostClassifier, GradientBoostingClassifier\n",
    "from keras.models import Sequential\n",
    "from keras.layers import Dense, Dropout\n",
    "\n",
    "import matplotlib.pyplot as plt\n",
    "\n",
    "%matplotlib inline"
   ]
  },
  {
   "cell_type": "code",
   "execution_count": 239,
   "metadata": {},
   "outputs": [],
   "source": [
    "df = pd.read_csv('data/churn_train.csv')\n",
    "\n",
    "def clean_data(df):\n",
    "    '''cleans dataframe in place and returns a non-dummied copy'''\n",
    "    df.dropna(inplace=True)\n",
    "\n",
    "    df['last_trip_date'] = pd.to_datetime(df['last_trip_date'])\n",
    "    df['signup_date'] = pd.to_datetime(df['signup_date'])\n",
    "\n",
    "    pull_date = pd.to_datetime('07012014', format='%m%d%Y', errors='coerce')\n",
    "    churn_date = pull_date - pd.to_timedelta('30 days')\n",
    "    df['churn'] = df['last_trip_date'] < churn_date\n",
    "\n",
    "    drop_columns = ['last_trip_date', 'signup_date'] # add average dist\n",
    "    df.drop(drop_columns, axis=1, inplace=True)\n",
    "\n",
    "    edadf = df.copy()\n",
    "\n",
    "    df = pd.get_dummies(df, drop_first=True, columns=['phone', 'luxury_car_user', 'city'])\n",
    "\n",
    "    return edadf, df\n",
    "\n",
    "edadf, df = clean_data(df)"
   ]
  },
  {
   "cell_type": "markdown",
   "metadata": {},
   "source": [
    "```\n",
    "city: city this user signed up in\n",
    "phone: primary device for this user\n",
    "signup_date: date of account registration; in the form `YYYYMMDD`\n",
    "last_trip_date: the last time this user completed a trip; in the form `YYYYMMDD`\n",
    "avg_dist: the average distance (in miles) per trip taken in the first 30 days after signup\n",
    "avg_rating_by_driver: the rider’s average rating over all of their trips\n",
    "avg_rating_of_driver: the rider’s average rating of their drivers over all of their trips\n",
    "surge_pct: the percent of trips taken with surge multiplier > 1\n",
    "avg_surge: The average surge multiplier over all of this user’s trips\n",
    "trips_in_first_30_days: the number of trips this user took in the first 30 days after signing up\n",
    "luxury_car_user: TRUE if the user took a luxury car in their first 30 days; FALSE otherwise\n",
    "weekday_pct: the percent of the user’s trips occurring during a weekday\n",
    "```"
   ]
  },
  {
   "cell_type": "markdown",
   "metadata": {},
   "source": [
    "## Drop Nulls\n",
    "\n",
    "|Total Rows| 40000|\n",
    "|--|--|\n",
    "|avg_rating_by_driver|39838| \n",
    "|avg_rating_of_driver|33472|\n",
    "|phone|39681| \n",
    "|**New Total Rows**|**33132**|\n",
    "\n",
    "Reduced data to 33,132\n"
   ]
  },
  {
   "cell_type": "code",
   "execution_count": 240,
   "metadata": {},
   "outputs": [
    {
     "name": "stdout",
     "output_type": "stream",
     "text": [
      "<class 'pandas.core.frame.DataFrame'>\n",
      "Int64Index: 33132 entries, 0 to 39999\n",
      "Data columns (total 12 columns):\n",
      "avg_dist                  33132 non-null float64\n",
      "avg_rating_by_driver      33132 non-null float64\n",
      "avg_rating_of_driver      33132 non-null float64\n",
      "avg_surge                 33132 non-null float64\n",
      "surge_pct                 33132 non-null float64\n",
      "trips_in_first_30_days    33132 non-null int64\n",
      "weekday_pct               33132 non-null float64\n",
      "churn                     33132 non-null bool\n",
      "phone_iPhone              33132 non-null uint8\n",
      "luxury_car_user_True      33132 non-null uint8\n",
      "city_King's Landing       33132 non-null uint8\n",
      "city_Winterfell           33132 non-null uint8\n",
      "dtypes: bool(1), float64(6), int64(1), uint8(4)\n",
      "memory usage: 2.2 MB\n"
     ]
    }
   ],
   "source": [
    "df.info()"
   ]
  },
  {
   "cell_type": "code",
   "execution_count": 371,
   "metadata": {},
   "outputs": [
    {
     "data": {
      "text/html": [
       "<div>\n",
       "<table border=\"1\" class=\"dataframe\">\n",
       "  <thead>\n",
       "    <tr style=\"text-align: right;\">\n",
       "      <th></th>\n",
       "      <th>avg_dist</th>\n",
       "      <th>avg_rating_by_driver</th>\n",
       "      <th>avg_rating_of_driver</th>\n",
       "      <th>avg_surge</th>\n",
       "      <th>surge_pct</th>\n",
       "      <th>trips_in_first_30_days</th>\n",
       "      <th>weekday_pct</th>\n",
       "    </tr>\n",
       "  </thead>\n",
       "  <tbody>\n",
       "    <tr>\n",
       "      <th>count</th>\n",
       "      <td>33132.000000</td>\n",
       "      <td>33132.000000</td>\n",
       "      <td>33132.000000</td>\n",
       "      <td>33132.000000</td>\n",
       "      <td>33132.000000</td>\n",
       "      <td>33132.000000</td>\n",
       "      <td>33132.000000</td>\n",
       "    </tr>\n",
       "    <tr>\n",
       "      <th>mean</th>\n",
       "      <td>5.462361</td>\n",
       "      <td>4.776038</td>\n",
       "      <td>4.601865</td>\n",
       "      <td>1.073739</td>\n",
       "      <td>8.871704</td>\n",
       "      <td>2.613817</td>\n",
       "      <td>61.209112</td>\n",
       "    </tr>\n",
       "    <tr>\n",
       "      <th>std</th>\n",
       "      <td>5.142537</td>\n",
       "      <td>0.405118</td>\n",
       "      <td>0.613369</td>\n",
       "      <td>0.197665</td>\n",
       "      <td>18.314846</td>\n",
       "      <td>4.081390</td>\n",
       "      <td>34.828590</td>\n",
       "    </tr>\n",
       "    <tr>\n",
       "      <th>min</th>\n",
       "      <td>0.000000</td>\n",
       "      <td>1.000000</td>\n",
       "      <td>1.000000</td>\n",
       "      <td>1.000000</td>\n",
       "      <td>0.000000</td>\n",
       "      <td>0.000000</td>\n",
       "      <td>0.000000</td>\n",
       "    </tr>\n",
       "    <tr>\n",
       "      <th>25%</th>\n",
       "      <td>2.420000</td>\n",
       "      <td>4.700000</td>\n",
       "      <td>4.300000</td>\n",
       "      <td>1.000000</td>\n",
       "      <td>0.000000</td>\n",
       "      <td>0.000000</td>\n",
       "      <td>37.500000</td>\n",
       "    </tr>\n",
       "    <tr>\n",
       "      <th>50%</th>\n",
       "      <td>3.790000</td>\n",
       "      <td>5.000000</td>\n",
       "      <td>4.900000</td>\n",
       "      <td>1.000000</td>\n",
       "      <td>0.000000</td>\n",
       "      <td>1.000000</td>\n",
       "      <td>66.700000</td>\n",
       "    </tr>\n",
       "    <tr>\n",
       "      <th>75%</th>\n",
       "      <td>6.472500</td>\n",
       "      <td>5.000000</td>\n",
       "      <td>5.000000</td>\n",
       "      <td>1.070000</td>\n",
       "      <td>11.100000</td>\n",
       "      <td>3.000000</td>\n",
       "      <td>100.000000</td>\n",
       "    </tr>\n",
       "    <tr>\n",
       "      <th>max</th>\n",
       "      <td>79.690000</td>\n",
       "      <td>5.000000</td>\n",
       "      <td>5.000000</td>\n",
       "      <td>8.000000</td>\n",
       "      <td>100.000000</td>\n",
       "      <td>125.000000</td>\n",
       "      <td>100.000000</td>\n",
       "    </tr>\n",
       "  </tbody>\n",
       "</table>\n",
       "</div>"
      ],
      "text/plain": [
       "           avg_dist  avg_rating_by_driver  avg_rating_of_driver     avg_surge  \\\n",
       "count  33132.000000          33132.000000          33132.000000  33132.000000   \n",
       "mean       5.462361              4.776038              4.601865      1.073739   \n",
       "std        5.142537              0.405118              0.613369      0.197665   \n",
       "min        0.000000              1.000000              1.000000      1.000000   \n",
       "25%        2.420000              4.700000              4.300000      1.000000   \n",
       "50%        3.790000              5.000000              4.900000      1.000000   \n",
       "75%        6.472500              5.000000              5.000000      1.070000   \n",
       "max       79.690000              5.000000              5.000000      8.000000   \n",
       "\n",
       "          surge_pct  trips_in_first_30_days   weekday_pct  \n",
       "count  33132.000000            33132.000000  33132.000000  \n",
       "mean       8.871704                2.613817     61.209112  \n",
       "std       18.314846                4.081390     34.828590  \n",
       "min        0.000000                0.000000      0.000000  \n",
       "25%        0.000000                0.000000     37.500000  \n",
       "50%        0.000000                1.000000     66.700000  \n",
       "75%       11.100000                3.000000    100.000000  \n",
       "max      100.000000              125.000000    100.000000  "
      ]
     },
     "execution_count": 371,
     "metadata": {},
     "output_type": "execute_result"
    }
   ],
   "source": [
    "edadf.describe()"
   ]
  },
  {
   "cell_type": "code",
   "execution_count": 242,
   "metadata": {
    "scrolled": true
   },
   "outputs": [
    {
     "name": "stdout",
     "output_type": "stream",
     "text": [
      "Churn\n",
      "True     19531\n",
      "False    13601\n",
      "Name: churn, dtype: int64\n",
      "----------------------------------------\n",
      "city\n",
      "Winterfell        15265\n",
      "Astapor           10824\n",
      "King's Landing     7043\n",
      "Name: city, dtype: int64\n",
      "----------------------------------------\n",
      "phone\n",
      "iPhone     23438\n",
      "Android     9694\n",
      "Name: phone, dtype: int64\n",
      "----------------------------------------\n",
      "luxury_car_user\n",
      "False    20447\n",
      "True     12685\n",
      "Name: luxury_car_user, dtype: int64\n"
     ]
    }
   ],
   "source": [
    "print \"Churn\"\n",
    "print df['churn'].value_counts()\n",
    "print \"-\" * 40\n",
    "print \"city\"\n",
    "print edadf['city'].value_counts()\n",
    "print \"-\" * 40\n",
    "print \"phone\"\n",
    "print edadf['phone'].value_counts()\n",
    "print \"-\" * 40\n",
    "print \"luxury_car_user\"\n",
    "print edadf['luxury_car_user'].value_counts()\n"
   ]
  },
  {
   "cell_type": "code",
   "execution_count": 243,
   "metadata": {},
   "outputs": [
    {
     "name": "stdout",
     "output_type": "stream",
     "text": [
      "city\n",
      "Astapor           10824\n",
      "King's Landing     7043\n",
      "Winterfell        15265\n",
      "Name: churn, dtype: int64\n",
      "city\n",
      "Astapor           7768.0\n",
      "King's Landing    2441.0\n",
      "Winterfell        9322.0\n",
      "Name: churn, dtype: float64\n",
      "city\n",
      "Astapor           0.717664\n",
      "King's Landing    0.346585\n",
      "Winterfell        0.610678\n",
      "Name: churn, dtype: float64\n"
     ]
    }
   ],
   "source": [
    "citygroup = edadf.groupby(by='city', axis=0)\n",
    "print citygroup.count()['churn']\n",
    "print citygroup.sum()['churn']\n",
    "print citygroup.sum()['churn'] / citygroup.count()['churn']"
   ]
  },
  {
   "cell_type": "markdown",
   "metadata": {},
   "source": [
    "CITY  \n",
    "\n",
    "|City|Count|Churned|%Churn|\n",
    "|--|--|--|--|\n",
    "|Astapor|10824|7768|71.7|\n",
    "|King's Landing|7043|2441|34.6|\n",
    "|Winterfell|15265|9322|61.1|"
   ]
  },
  {
   "cell_type": "code",
   "execution_count": 244,
   "metadata": {},
   "outputs": [
    {
     "name": "stdout",
     "output_type": "stream",
     "text": [
      "phone\n",
      "Android     9694\n",
      "iPhone     23438\n",
      "Name: churn, dtype: int64\n",
      "phone\n",
      "Android     7462.0\n",
      "iPhone     12069.0\n",
      "Name: churn, dtype: float64\n",
      "phone\n",
      "Android    0.769754\n",
      "iPhone     0.514933\n",
      "Name: churn, dtype: float64\n"
     ]
    }
   ],
   "source": [
    "phonegroup = edadf.groupby(by='phone', axis=0)\n",
    "print phonegroup.count()['churn']\n",
    "print phonegroup.sum()['churn']\n",
    "print phonegroup.sum()['churn'] / phonegroup.count()['churn']"
   ]
  },
  {
   "cell_type": "markdown",
   "metadata": {},
   "source": [
    "|Phone|Count|Churned|%Churn|\n",
    "|--|--|--|--|\n",
    "|Android|9694|7462|76.9|\n",
    "|iPhone|23438|12069|51.5|\n"
   ]
  },
  {
   "cell_type": "code",
   "execution_count": 245,
   "metadata": {},
   "outputs": [
    {
     "name": "stdout",
     "output_type": "stream",
     "text": [
      "luxury_car_user\n",
      "True     12685\n",
      "False    20447\n",
      "Name: churn, dtype: int64\n",
      "luxury_car_user\n",
      "True      5728.0\n",
      "False    13803.0\n",
      "Name: churn, dtype: float64\n",
      "luxury_car_user\n",
      "True     0.451557\n",
      "False    0.675062\n",
      "Name: churn, dtype: float64\n"
     ]
    }
   ],
   "source": [
    "luxgroup = edadf.groupby(by='luxury_car_user', axis=0)\n",
    "print luxgroup.count()['churn'].sort_values()\n",
    "print luxgroup.sum()['churn'].sort_values()\n",
    "print (luxgroup.sum()['churn'] / luxgroup.count()['churn']).sort_values()"
   ]
  },
  {
   "cell_type": "markdown",
   "metadata": {},
   "source": [
    "|luxury_car_user|Count|Churned|%Churn|\n",
    "|--|--|--|--|\n",
    "|True|12685|5728|45.1|\n",
    "|False|20447|13803|67.5|"
   ]
  },
  {
   "cell_type": "code",
   "execution_count": 246,
   "metadata": {},
   "outputs": [
    {
     "data": {
      "text/plain": [
       "True     19531\n",
       "False    13601\n",
       "Name: churn, dtype: int64"
      ]
     },
     "execution_count": 246,
     "metadata": {},
     "output_type": "execute_result"
    }
   ],
   "source": [
    "edadf['churn'].value_counts()"
   ]
  },
  {
   "cell_type": "markdown",
   "metadata": {},
   "source": [
    "|Churn|Count|%Churn|\n",
    "|--|--|--|--|\n",
    "|True|19531|58.9|\n",
    "|False|13601|41.1|"
   ]
  },
  {
   "cell_type": "code",
   "execution_count": 247,
   "metadata": {},
   "outputs": [],
   "source": [
    "churndf = df[df['churn'] == True]\n",
    "retaindf = df[df['churn'] == False]"
   ]
  },
  {
   "cell_type": "code",
   "execution_count": 248,
   "metadata": {
    "scrolled": true
   },
   "outputs": [
    {
     "data": {
      "image/png": "[encoded data removed]",
      "text/plain": [
       "<matplotlib.figure.Figure at 0x1200c2bd0>"
      ]
     },
     "metadata": {},
     "output_type": "display_data"
    }
   ],
   "source": [
    "plt.hist(churndf['weekday_pct'])\n",
    "plt.hist(retaindf['weekday_pct'], color='red', alpha=0.5)\n",
    "plt.show()"
   ]
  },
  {
   "cell_type": "markdown",
   "metadata": {},
   "source": [
    "## POTENTIAL DROPS - AVG DIST"
   ]
  },
  {
   "cell_type": "markdown",
   "metadata": {},
   "source": [
    "### Split out y and X Data for train"
   ]
  },
  {
   "cell_type": "code",
   "execution_count": 302,
   "metadata": {},
   "outputs": [],
   "source": [
    "formdf = df.copy()\n",
    "\n",
    "y = formdf.pop('churn')\n",
    "X = np.array(formdf)\n",
    "X_norm = normalize(X)"
   ]
  },
  {
   "cell_type": "markdown",
   "metadata": {},
   "source": [
    "### Import Test Data"
   ]
  },
  {
   "cell_type": "code",
   "execution_count": 303,
   "metadata": {},
   "outputs": [],
   "source": [
    "testdf = pd.read_csv('data/churn_test.csv')\n",
    "throwaway, testdf = clean_data(testdf)\n",
    "\n",
    "\n",
    "y_test = testdf.pop('churn')\n",
    "X_test = np.array(testdf)\n",
    "X_test_norm = normalize(X_test)"
   ]
  },
  {
   "cell_type": "markdown",
   "metadata": {},
   "source": [
    "# Logistic For P-Values"
   ]
  },
  {
   "cell_type": "code",
   "execution_count": 309,
   "metadata": {},
   "outputs": [
    {
     "data": {
      "text/plain": [
       "Index([u'avg_dist', u'avg_rating_by_driver', u'avg_rating_of_driver',\n",
       "       u'avg_surge', u'surge_pct', u'trips_in_first_30_days', u'weekday_pct',\n",
       "       u'phone_iPhone', u'luxury_car_user_True', u'city_King's Landing',\n",
       "       u'city_Winterfell'],\n",
       "      dtype='object')"
      ]
     },
     "execution_count": 309,
     "metadata": {},
     "output_type": "execute_result"
    }
   ],
   "source": [
    "testdf.columns"
   ]
  },
  {
   "cell_type": "code",
   "execution_count": 369,
   "metadata": {},
   "outputs": [
    {
     "name": "stdout",
     "output_type": "stream",
     "text": [
      "WORKING ON R: 10\n",
      "WORKING ON R: 11\n"
     ]
    }
   ],
   "source": [
    "from sklearn.feature_selection import f_classif\n",
    "from sklearn.feature_selection import SelectKBest\n",
    "from itertools import combinations\n",
    "from sklearn.linear_model import LogisticRegression\n",
    "from sklearn.preprocessing import normalize\n",
    "from sklearn.ensemble import AdaBoostClassifier\n",
    "\n",
    "# F, pval = f_classif(X_norm, y)\n",
    "# np.stack([F, pval], axis=1)\n",
    "\n",
    "feature_list = []\n",
    "\n",
    "for r in range(10, 12):\n",
    "    combs = combinations(testdf.columns, r)\n",
    "    print \"WORKING ON R: {}\".format(r)\n",
    "    \n",
    "    for features in combs:\n",
    "        \n",
    "        formdf = df.copy()\n",
    "\n",
    "        y = formdf.pop('churn')\n",
    "        X = np.array(formdf[list(features)])\n",
    "        X_norm = normalize(X)\n",
    "\n",
    "        testdf = pd.read_csv('data/churn_test.csv')\n",
    "        throwaway, testdf = clean_data(testdf)\n",
    "\n",
    "\n",
    "        y_test = testdf.pop('churn')\n",
    "        X_test = np.array(testdf[list(features)])\n",
    "        X_test_norm = normalize(X_test)\n",
    "\n",
    "\n",
    "#         lr = LogisticRegression()\n",
    "        lr = AdaBoostClassifier(learning_rate=1)\n",
    "        fitted = lr.fit(X_norm, y)\n",
    "\n",
    "        feature_list.append((list(features), lr.score(X_test_norm, y_test)))\n",
    "\n",
    "feature_list.sort(key=lambda x: x[1])"
   ]
  },
  {
   "cell_type": "code",
   "execution_count": 370,
   "metadata": {
    "scrolled": true
   },
   "outputs": [
    {
     "data": {
      "text/plain": [
       "[(['avg_dist',\n",
       "   'avg_rating_by_driver',\n",
       "   'avg_rating_of_driver',\n",
       "   'avg_surge',\n",
       "   'trips_in_first_30_days',\n",
       "   'weekday_pct',\n",
       "   'phone_iPhone',\n",
       "   'luxury_car_user_True',\n",
       "   \"city_King's Landing\",\n",
       "   'city_Winterfell'],\n",
       "  0.73751954769637917),\n",
       " (['avg_dist',\n",
       "   'avg_rating_by_driver',\n",
       "   'avg_rating_of_driver',\n",
       "   'avg_surge',\n",
       "   'surge_pct',\n",
       "   'trips_in_first_30_days',\n",
       "   'weekday_pct',\n",
       "   'luxury_car_user_True',\n",
       "   \"city_King's Landing\",\n",
       "   'city_Winterfell'],\n",
       "  0.73872248285817399),\n",
       " (['avg_dist',\n",
       "   'avg_rating_by_driver',\n",
       "   'avg_rating_of_driver',\n",
       "   'avg_surge',\n",
       "   'surge_pct',\n",
       "   'trips_in_first_30_days',\n",
       "   'weekday_pct',\n",
       "   'phone_iPhone',\n",
       "   \"city_King's Landing\",\n",
       "   'city_Winterfell'],\n",
       "  0.73932395043907129),\n",
       " (['avg_dist',\n",
       "   'avg_rating_by_driver',\n",
       "   'avg_rating_of_driver',\n",
       "   'avg_surge',\n",
       "   'surge_pct',\n",
       "   'trips_in_first_30_days',\n",
       "   'weekday_pct',\n",
       "   'phone_iPhone',\n",
       "   'luxury_car_user_True',\n",
       "   \"city_King's Landing\"],\n",
       "  0.74509803921568629),\n",
       " (['avg_dist',\n",
       "   'avg_rating_by_driver',\n",
       "   'avg_surge',\n",
       "   'surge_pct',\n",
       "   'trips_in_first_30_days',\n",
       "   'weekday_pct',\n",
       "   'phone_iPhone',\n",
       "   'luxury_car_user_True',\n",
       "   \"city_King's Landing\",\n",
       "   'city_Winterfell'],\n",
       "  0.74618068086130163),\n",
       " (['avg_dist',\n",
       "   'avg_rating_of_driver',\n",
       "   'avg_surge',\n",
       "   'surge_pct',\n",
       "   'trips_in_first_30_days',\n",
       "   'weekday_pct',\n",
       "   'phone_iPhone',\n",
       "   'luxury_car_user_True',\n",
       "   \"city_King's Landing\",\n",
       "   'city_Winterfell'],\n",
       "  0.74870684470107063),\n",
       " (['avg_dist',\n",
       "   'avg_rating_by_driver',\n",
       "   'avg_rating_of_driver',\n",
       "   'avg_surge',\n",
       "   'surge_pct',\n",
       "   'weekday_pct',\n",
       "   'phone_iPhone',\n",
       "   'luxury_car_user_True',\n",
       "   \"city_King's Landing\",\n",
       "   'city_Winterfell'],\n",
       "  0.74966919283050648),\n",
       " (['avg_dist',\n",
       "   'avg_rating_by_driver',\n",
       "   'avg_rating_of_driver',\n",
       "   'surge_pct',\n",
       "   'trips_in_first_30_days',\n",
       "   'weekday_pct',\n",
       "   'phone_iPhone',\n",
       "   'luxury_car_user_True',\n",
       "   \"city_King's Landing\",\n",
       "   'city_Winterfell'],\n",
       "  0.74990977986286544),\n",
       " (['avg_dist',\n",
       "   'avg_rating_by_driver',\n",
       "   'avg_rating_of_driver',\n",
       "   'avg_surge',\n",
       "   'surge_pct',\n",
       "   'trips_in_first_30_days',\n",
       "   'weekday_pct',\n",
       "   'phone_iPhone',\n",
       "   'luxury_car_user_True',\n",
       "   \"city_King's Landing\",\n",
       "   'city_Winterfell'],\n",
       "  0.75027066041140378),\n",
       " (['avg_rating_by_driver',\n",
       "   'avg_rating_of_driver',\n",
       "   'avg_surge',\n",
       "   'surge_pct',\n",
       "   'trips_in_first_30_days',\n",
       "   'weekday_pct',\n",
       "   'phone_iPhone',\n",
       "   'luxury_car_user_True',\n",
       "   \"city_King's Landing\",\n",
       "   'city_Winterfell'],\n",
       "  0.75123300854083963)]"
      ]
     },
     "execution_count": 370,
     "metadata": {},
     "output_type": "execute_result"
    }
   ],
   "source": [
    "feature_list[-10:]"
   ]
  },
  {
   "cell_type": "markdown",
   "metadata": {},
   "source": [
    "# RandomForest"
   ]
  },
  {
   "cell_type": "code",
   "execution_count": 351,
   "metadata": {},
   "outputs": [
    {
     "data": {
      "text/plain": [
       "Index([u'avg_dist', u'avg_rating_by_driver', u'avg_rating_of_driver',\n",
       "       u'avg_surge', u'surge_pct', u'trips_in_first_30_days', u'weekday_pct',\n",
       "       u'phone_iPhone', u'luxury_car_user_True', u'city_King's Landing',\n",
       "       u'city_Winterfell'],\n",
       "      dtype='object')"
      ]
     },
     "execution_count": 351,
     "metadata": {},
     "output_type": "execute_result"
    }
   ],
   "source": [
    "formdf.columns"
   ]
  },
  {
   "cell_type": "code",
   "execution_count": 358,
   "metadata": {
    "scrolled": true
   },
   "outputs": [
    {
     "name": "stdout",
     "output_type": "stream",
     "text": [
      "Fitting 5 folds for each of 4 candidates, totalling 20 fits\n",
      "[CV] n_jobs=-1, bootstrap=True, min_samples_leaf=1, n_estimators=100, max_features=auto, random_state=0, criterion=gini, min_samples_split=2, max_depth=5 \n",
      "[CV] n_jobs=-1, bootstrap=True, min_samples_leaf=1, n_estimators=100, max_features=auto, random_state=0, criterion=gini, min_samples_split=2, max_depth=5 \n",
      "[CV] n_jobs=-1, bootstrap=True, min_samples_leaf=1, n_estimators=100, max_features=auto, random_state=0, criterion=gini, min_samples_split=2, max_depth=5 \n",
      "[CV] n_jobs=-1, bootstrap=True, min_samples_leaf=1, n_estimators=100, max_features=auto, random_state=0, criterion=gini, min_samples_split=2, max_depth=5 \n",
      "[CV]  n_jobs=-1, bootstrap=True, min_samples_leaf=1, n_estimators=100, max_features=auto, random_state=0, criterion=gini, min_samples_split=2, max_depth=5, score=0.751660, total=   4.5s\n",
      "[CV] n_jobs=-1, bootstrap=True, min_samples_leaf=1, n_estimators=100, max_features=auto, random_state=0, criterion=gini, min_samples_split=2, max_depth=5 \n",
      "[CV]  n_jobs=-1, bootstrap=True, min_samples_leaf=1, n_estimators=100, max_features=auto, random_state=0, criterion=gini, min_samples_split=2, max_depth=5, score=0.750981, total=   4.5s\n",
      "[CV] n_jobs=-1, bootstrap=True, min_samples_leaf=1, n_estimators=100, max_features=None, random_state=0, criterion=gini, min_samples_split=2, max_depth=5 \n",
      "[CV]  n_jobs=-1, bootstrap=True, min_samples_leaf=1, n_estimators=100, max_features=auto, random_state=0, criterion=gini, min_samples_split=2, max_depth=5, score=0.751736, total=   4.5s\n",
      "[CV] n_jobs=-1, bootstrap=True, min_samples_leaf=1, n_estimators=100, max_features=None, random_state=0, criterion=gini, min_samples_split=2, max_depth=5 \n",
      "[CV]  n_jobs=-1, bootstrap=True, min_samples_leaf=1, n_estimators=100, max_features=auto, random_state=0, criterion=gini, min_samples_split=2, max_depth=5, score=0.758376, total=   4.7s\n",
      "[CV] n_jobs=-1, bootstrap=True, min_samples_leaf=1, n_estimators=100, max_features=None, random_state=0, criterion=gini, min_samples_split=2, max_depth=5 \n",
      "[CV]  n_jobs=-1, bootstrap=True, min_samples_leaf=1, n_estimators=100, max_features=auto, random_state=0, criterion=gini, min_samples_split=2, max_depth=5, score=0.753245, total=   5.1s\n",
      "[CV] n_jobs=-1, bootstrap=True, min_samples_leaf=1, n_estimators=100, max_features=None, random_state=0, criterion=gini, min_samples_split=2, max_depth=5 \n"
     ]
    },
    {
     "name": "stderr",
     "output_type": "stream",
     "text": [
      "[Parallel(n_jobs=-1)]: Done   5 tasks      | elapsed:   10.5s\n"
     ]
    },
    {
     "name": "stdout",
     "output_type": "stream",
     "text": [
      "[CV]  n_jobs=-1, bootstrap=True, min_samples_leaf=1, n_estimators=100, max_features=None, random_state=0, criterion=gini, min_samples_split=2, max_depth=5, score=0.747812, total=  14.0s\n",
      "[CV] n_jobs=-1, bootstrap=True, min_samples_leaf=1, n_estimators=100, max_features=None, random_state=0, criterion=gini, min_samples_split=2, max_depth=5 \n",
      "[CV]  n_jobs=-1, bootstrap=True, min_samples_leaf=1, n_estimators=100, max_features=None, random_state=0, criterion=gini, min_samples_split=2, max_depth=5, score=0.757242, total=  14.4s\n",
      "[CV] n_jobs=-1, bootstrap=True, min_samples_leaf=1, n_estimators=100, max_features=auto, random_state=0, criterion=gini, min_samples_split=2, max_depth=None \n",
      "[CV]  n_jobs=-1, bootstrap=True, min_samples_leaf=1, n_estimators=100, max_features=None, random_state=0, criterion=gini, min_samples_split=2, max_depth=5, score=0.756716, total=  14.3s\n",
      "[CV] n_jobs=-1, bootstrap=True, min_samples_leaf=1, n_estimators=100, max_features=auto, random_state=0, criterion=gini, min_samples_split=2, max_depth=None \n",
      "[CV]  n_jobs=-1, bootstrap=True, min_samples_leaf=1, n_estimators=100, max_features=None, random_state=0, criterion=gini, min_samples_split=2, max_depth=5, score=0.753698, total=  14.2s\n",
      "[CV] n_jobs=-1, bootstrap=True, min_samples_leaf=1, n_estimators=100, max_features=auto, random_state=0, criterion=gini, min_samples_split=2, max_depth=None \n",
      "[CV]  n_jobs=-1, bootstrap=True, min_samples_leaf=1, n_estimators=100, max_features=auto, random_state=0, criterion=gini, min_samples_split=2, max_depth=None, score=0.751207, total=  11.1s\n",
      "[CV] n_jobs=-1, bootstrap=True, min_samples_leaf=1, n_estimators=100, max_features=auto, random_state=0, criterion=gini, min_samples_split=2, max_depth=None \n",
      "[CV]  n_jobs=-1, bootstrap=True, min_samples_leaf=1, n_estimators=100, max_features=auto, random_state=0, criterion=gini, min_samples_split=2, max_depth=None, score=0.750830, total=  11.4s\n"
     ]
    },
    {
     "name": "stderr",
     "output_type": "stream",
     "text": [
      "[Parallel(n_jobs=-1)]: Done  10 tasks      | elapsed:   32.1s\n"
     ]
    },
    {
     "name": "stdout",
     "output_type": "stream",
     "text": [
      "[CV] n_jobs=-1, bootstrap=True, min_samples_leaf=1, n_estimators=100, max_features=auto, random_state=0, criterion=gini, min_samples_split=2, max_depth=None \n",
      "[CV]  n_jobs=-1, bootstrap=True, min_samples_leaf=1, n_estimators=100, max_features=None, random_state=0, criterion=gini, min_samples_split=2, max_depth=5, score=0.757018, total=  13.9s\n",
      "[CV] n_jobs=-1, bootstrap=True, min_samples_leaf=1, n_estimators=100, max_features=None, random_state=0, criterion=gini, min_samples_split=2, max_depth=None \n",
      "[CV]  n_jobs=-1, bootstrap=True, min_samples_leaf=1, n_estimators=100, max_features=auto, random_state=0, criterion=gini, min_samples_split=2, max_depth=None, score=0.762904, total=  11.4s\n",
      "[CV] n_jobs=-1, bootstrap=True, min_samples_leaf=1, n_estimators=100, max_features=None, random_state=0, criterion=gini, min_samples_split=2, max_depth=None \n",
      "[CV]  n_jobs=-1, bootstrap=True, min_samples_leaf=1, n_estimators=100, max_features=auto, random_state=0, criterion=gini, min_samples_split=2, max_depth=None, score=0.762753, total=  11.5s\n",
      "[CV] n_jobs=-1, bootstrap=True, min_samples_leaf=1, n_estimators=100, max_features=None, random_state=0, criterion=gini, min_samples_split=2, max_depth=None \n",
      "[CV]  n_jobs=-1, bootstrap=True, min_samples_leaf=1, n_estimators=100, max_features=auto, random_state=0, criterion=gini, min_samples_split=2, max_depth=None, score=0.758678, total=  12.5s\n",
      "[CV] n_jobs=-1, bootstrap=True, min_samples_leaf=1, n_estimators=100, max_features=None, random_state=0, criterion=gini, min_samples_split=2, max_depth=None \n",
      "[CV]  n_jobs=-1, bootstrap=True, min_samples_leaf=1, n_estimators=100, max_features=None, random_state=0, criterion=gini, min_samples_split=2, max_depth=None, score=0.742758, total=  32.2s\n",
      "[CV] n_jobs=-1, bootstrap=True, min_samples_leaf=1, n_estimators=100, max_features=None, random_state=0, criterion=gini, min_samples_split=2, max_depth=None \n"
     ]
    },
    {
     "name": "stderr",
     "output_type": "stream",
     "text": [
      "[Parallel(n_jobs=-1)]: Done  16 out of  20 | elapsed:  1.1min remaining:   16.8s\n"
     ]
    },
    {
     "name": "stdout",
     "output_type": "stream",
     "text": [
      "[CV]  n_jobs=-1, bootstrap=True, min_samples_leaf=1, n_estimators=100, max_features=None, random_state=0, criterion=gini, min_samples_split=2, max_depth=None, score=0.743284, total=  31.9s\n",
      "[CV]  n_jobs=-1, bootstrap=True, min_samples_leaf=1, n_estimators=100, max_features=None, random_state=0, criterion=gini, min_samples_split=2, max_depth=None, score=0.752339, total=  30.8s\n",
      "[CV]  n_jobs=-1, bootstrap=True, min_samples_leaf=1, n_estimators=100, max_features=None, random_state=0, criterion=gini, min_samples_split=2, max_depth=None, score=0.747963, total=  30.8s\n",
      "[CV]  n_jobs=-1, bootstrap=True, min_samples_leaf=1, n_estimators=100, max_features=None, random_state=0, criterion=gini, min_samples_split=2, max_depth=None, score=0.752641, total=  14.7s\n"
     ]
    },
    {
     "name": "stderr",
     "output_type": "stream",
     "text": [
      "[Parallel(n_jobs=-1)]: Done  20 out of  20 | elapsed:  1.4min finished\n"
     ]
    },
    {
     "data": {
      "text/plain": [
       "['mean_fit_time',\n",
       " 'mean_score_time',\n",
       " 'mean_test_score',\n",
       " 'mean_train_score',\n",
       " 'param_bootstrap',\n",
       " 'param_criterion',\n",
       " 'param_max_depth',\n",
       " 'param_max_features',\n",
       " 'param_min_samples_leaf',\n",
       " 'param_min_samples_split',\n",
       " 'param_n_estimators',\n",
       " 'param_n_jobs',\n",
       " 'param_random_state',\n",
       " 'params',\n",
       " 'rank_test_score',\n",
       " 'split0_test_score',\n",
       " 'split0_train_score',\n",
       " 'split1_test_score',\n",
       " 'split1_train_score',\n",
       " 'split2_test_score',\n",
       " 'split2_train_score',\n",
       " 'split3_test_score',\n",
       " 'split3_train_score',\n",
       " 'split4_test_score',\n",
       " 'split4_train_score',\n",
       " 'std_fit_time',\n",
       " 'std_score_time',\n",
       " 'std_test_score',\n",
       " 'std_train_score']"
      ]
     },
     "execution_count": 358,
     "metadata": {},
     "output_type": "execute_result"
    }
   ],
   "source": [
    "from sklearn.ensemble import RandomForestClassifier\n",
    "from sklearn.model_selection import GridSearchCV\n",
    "\n",
    "# features = ['avg_dist',\n",
    "#    'avg_rating_by_driver',\n",
    "#    'avg_rating_of_driver',\n",
    "#    'avg_surge',\n",
    "#    'surge_pct',\n",
    "#    'phone_iPhone',\n",
    "#    'luxury_car_user_True',\n",
    "#    \"city_King's Landing\",\n",
    "#    'city_Winterfell']\n",
    "\n",
    "\n",
    "# features = ['avg_dist',\n",
    "#           'avg_rating_by_driver',\n",
    "#           'trips_in_first_30_days',\n",
    "#           'phone_iPhone',\n",
    "#           'luxury_car_user_True',\n",
    "#           \"city_King's Landing\",\n",
    "#           \"city_Winterfell\"\n",
    "#          ]\n",
    "\n",
    "\n",
    "features = [\n",
    "            'trips_in_first_30_days',\n",
    "           ]\n",
    "\n",
    "features = formdf.columns\n",
    "\n",
    "formdf = df.copy()\n",
    "\n",
    "y = formdf.pop('churn')\n",
    "X = np.array(formdf[features])\n",
    "X_norm = normalize(X)\n",
    "\n",
    "\n",
    "testdf = pd.read_csv('data/churn_test.csv')\n",
    "throwaway, testdf = clean_data(testdf)\n",
    "\n",
    "y_test = testdf.pop('churn')\n",
    "X_test = np.array(testdf[features])\n",
    "X_test_norm = normalize(X_test)\n",
    "\n",
    "\n",
    "params = {'n_estimators'       : [100],\n",
    "          'criterion'          : ['gini'],\n",
    "          'max_depth'          : [5, None],\n",
    "          'min_samples_split'  : [2],\n",
    "          'min_samples_leaf'   : [1],\n",
    "          'max_features'       : ['auto', None],\n",
    "          'bootstrap'          : [True],\n",
    "          'n_jobs'             : [-1],\n",
    "          'random_state'       : [0]\n",
    "         }\n",
    "\n",
    "rfc = RandomForestClassifier()\n",
    "\n",
    "grfc = GridSearchCV(rfc, params, cv=5, n_jobs=-1, verbose=10)\n",
    "grfc.fit(X_norm, y)\n",
    "\n",
    "\n",
    "sorted(grfc.cv_results_.keys())"
   ]
  },
  {
   "cell_type": "code",
   "execution_count": null,
   "metadata": {
    "scrolled": true
   },
   "outputs": [],
   "source": [
    "sorted(grfc.cv_results_['mean_test_score'])"
   ]
  },
  {
   "cell_type": "code",
   "execution_count": null,
   "metadata": {
    "collapsed": true
   },
   "outputs": [],
   "source": [
    "from sklearn.metrics import confusion_matrix\n",
    "\n",
    "best = grfc.best_estimator_\n",
    "y_pred = best.predict(X_test_norm)\n",
    "\n",
    "confusion_matrix(y_test, y_pred)"
   ]
  },
  {
   "cell_type": "code",
   "execution_count": null,
   "metadata": {
    "collapsed": true
   },
   "outputs": [],
   "source": []
  },
  {
   "cell_type": "code",
   "execution_count": 349,
   "metadata": {
    "scrolled": true
   },
   "outputs": [
    {
     "name": "stdout",
     "output_type": "stream",
     "text": [
      "('avg_dist', 279.51, 0.0)\n",
      "('avg_rating_by_driver', 45.9, 0.0)\n",
      "('avg_rating_of_driver', 5.85, 0.01555)\n",
      "('avg_surge', 0.71, 0.40039)\n",
      "('surge_pct', 3.72, 0.05362)\n",
      "('trips_in_first_30_days', 1377.51, 0.0)\n",
      "('weekday_pct', 3.51, 0.06094)\n",
      "('phone_iPhone', 1948.22, 0.0)\n",
      "('luxury_car_user_True', 1698.79, 0.0)\n",
      "(\"city_King's Landing\", 2334.35, 0.0)\n",
      "('city_Winterfell', 52.59, 0.0)\n"
     ]
    }
   ],
   "source": [
    "from sklearn.feature_selection import f_classif\n",
    "\n",
    "X = np.array(formdf)\n",
    "X_norm = normalize(X)\n",
    "labels = formdf.columns\n",
    "\n",
    "newlist = []\n",
    "\n",
    "fs, pval = f_classif(X, y)\n",
    "for label, fs, pval in zip(labels, fs, pval):\n",
    "    newlist.append((label, round(fs, 2), round(pval, 5)))\n",
    "for value in newlist:\n",
    "    print value\n",
    "    \n",
    "anova_features = ['avg_dist',\n",
    "                  'avg_rating_by_driver',\n",
    "                  'trips_in_first_30_days',\n",
    "                  'phone_iPhone',\n",
    "                  'luxury_car_user_True',\n",
    "                  \"city_King's Landing\",\n",
    "                  \"city_Winterfell\"\n",
    "                 ]"
   ]
  },
  {
   "cell_type": "code",
   "execution_count": null,
   "metadata": {
    "collapsed": true
   },
   "outputs": [],
   "source": [
    "\n",
    "\n",
    "\n",
    "\n"
   ]
  }
 ],
 "metadata": {
  "kernelspec": {
   "display_name": "Python [conda root]",
   "language": "python",
   "name": "conda-root-py"
  },
  "language_info": {
   "codemirror_mode": {
    "name": "ipython",
    "version": 2
   },
   "file_extension": ".py",
   "mimetype": "text/x-python",
   "name": "python",
   "nbconvert_exporter": "python",
   "pygments_lexer": "ipython2",
   "version": "2.7.13"
  }
 },
 "nbformat": 4,
 "nbformat_minor": 2
}
